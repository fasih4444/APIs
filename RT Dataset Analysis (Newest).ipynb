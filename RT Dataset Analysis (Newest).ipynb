{
  "cells": [
    {
      "cell_type": "markdown",
      "id": "39c9e4df",
      "metadata": {
        "id": "39c9e4df"
      },
      "source": [
        "# Exploratory Data Analysis of Rotten Tomatoes Top 100 in each Genre\n",
        "Rotten Tomato dataset was retrived from kaggle @ \n",
        "https://www.kaggle.com/datasets/prasertk/top-100-rotten-tomatoes-movies-by-genres\n",
        "\n",
        "In this analysis I have tried to answer the following questions: \n",
        "1. Explore the year that had the most popular titles\n",
        "2. What correlations, if any, exist?  \n",
        "3. Find the most popular movies in each genre\n",
        "4. The most popular movie overall"
      ]
    },
    {
      "cell_type": "code",
      "execution_count": null,
      "id": "23367d3a",
      "metadata": {
        "id": "23367d3a"
      },
      "outputs": [],
      "source": [
        "!pip install plotly"
      ]
    },
    {
      "cell_type": "code",
      "execution_count": null,
      "id": "5fc3d93a",
      "metadata": {
        "id": "5fc3d93a"
      },
      "outputs": [],
      "source": [
        "# Importing libraries \n",
        "import numpy as np \n",
        "import pandas as pd\n",
        "import matplotlib. pyplot as plt \n",
        "%matplotlib inline\n",
        "\n",
        "import seaborn as sns \n",
        "import plotly.express as px"
      ]
    },
    {
      "cell_type": "code",
      "execution_count": null,
      "id": "8df31709",
      "metadata": {
        "id": "8df31709"
      },
      "outputs": [],
      "source": [
        "rt_df = pd.read_csv('top_100_movies_by_genres.csv')"
      ]
    },
    {
      "cell_type": "markdown",
      "id": "806ac500",
      "metadata": {
        "id": "806ac500"
      },
      "source": [
        "# Data wrangling \n",
        "Now I will spend some time understading the values within my dataset, cleaning as necessary, and preparing it for further evaluation. "
      ]
    },
    {
      "cell_type": "code",
      "execution_count": null,
      "id": "4171cb53",
      "metadata": {
        "id": "4171cb53"
      },
      "outputs": [],
      "source": [
        "rt_df.head()"
      ]
    },
    {
      "cell_type": "code",
      "execution_count": null,
      "id": "46b04fdb",
      "metadata": {
        "id": "46b04fdb"
      },
      "outputs": [],
      "source": [
        "rt_df.shape"
      ]
    },
    {
      "cell_type": "code",
      "execution_count": null,
      "id": "b2d13b75",
      "metadata": {
        "id": "b2d13b75"
      },
      "outputs": [],
      "source": [
        "rt_df.info()"
      ]
    },
    {
      "cell_type": "code",
      "execution_count": null,
      "id": "ac37e6e6",
      "metadata": {
        "id": "ac37e6e6"
      },
      "outputs": [],
      "source": [
        "rt_df.isnull().sum()"
      ]
    },
    {
      "cell_type": "code",
      "execution_count": null,
      "id": "07b09671",
      "metadata": {
        "id": "07b09671"
      },
      "outputs": [],
      "source": [
        "rt_df.columns"
      ]
    },
    {
      "cell_type": "markdown",
      "id": "d3220765",
      "metadata": {
        "id": "d3220765"
      },
      "source": [
        "My dataframe has 1612 rows and five columns. It has no missing values. From here, I will begin to analyze this data with descriptive statistics.\n",
        "\n",
        "\n",
        "I will focus on the following columns:\n",
        "1. RankingTomatometer: This dataset only includes the rating that was given to it by critics\n",
        "2. No. of Reviews: The number of critics who gave their opinions on this dataset. "
      ]
    },
    {
      "cell_type": "code",
      "execution_count": null,
      "id": "9dac1965",
      "metadata": {
        "id": "9dac1965"
      },
      "outputs": [],
      "source": [
        "rt_df['No. of Reviews'].min()"
      ]
    },
    {
      "cell_type": "code",
      "execution_count": null,
      "id": "bbd7d9e2",
      "metadata": {
        "id": "bbd7d9e2"
      },
      "outputs": [],
      "source": [
        "rt_df['No. of Reviews'].max()"
      ]
    },
    {
      "cell_type": "code",
      "execution_count": null,
      "id": "2c2fe0ac",
      "metadata": {
        "id": "2c2fe0ac"
      },
      "outputs": [],
      "source": [
        "rt_df['No. of Reviews'].mean()"
      ]
    },
    {
      "cell_type": "markdown",
      "id": "8dde1b4c",
      "metadata": {
        "id": "8dde1b4c"
      },
      "source": [
        "Most movies have around 148 reviews. Now I will check my data for outliers."
      ]
    },
    {
      "cell_type": "code",
      "execution_count": null,
      "id": "201bfd41",
      "metadata": {
        "id": "201bfd41"
      },
      "outputs": [],
      "source": [
        "fig1 = px.histogram(rt_df, x='No. of Reviews')\n",
        "fig1.show()"
      ]
    },
    {
      "cell_type": "markdown",
      "id": "d8856aec",
      "metadata": {
        "id": "d8856aec"
      },
      "source": [
        "This distribution is not normal, so I will be adding a new column with this information normalized through min/max scaling. "
      ]
    },
    {
      "cell_type": "code",
      "execution_count": null,
      "id": "455aeb87",
      "metadata": {
        "id": "455aeb87"
      },
      "outputs": [],
      "source": [
        "from sklearn.preprocessing import MinMaxScaler\n",
        "\n",
        "scaler = MinMaxScaler()\n",
        "\n",
        "rt_df[['Scaled Reviews']] = scaler.fit_transform(rt_df[[\"No. of Reviews\"]])\n",
        "\n",
        "rt_df.head()"
      ]
    },
    {
      "cell_type": "code",
      "execution_count": null,
      "id": "a4da77d9",
      "metadata": {
        "id": "a4da77d9"
      },
      "outputs": [],
      "source": [
        "fig2 = px.histogram(rt_df, x=\"Scaled Reviews\")\n",
        "fig2.show()"
      ]
    },
    {
      "cell_type": "markdown",
      "id": "581d75e6",
      "metadata": {
        "id": "581d75e6"
      },
      "source": [
        "The other column I would like to cover with some statistical analysis is classified as an 'object' type rather than an integer. I need to correct this in order to preform calculations."
      ]
    },
    {
      "cell_type": "code",
      "execution_count": null,
      "id": "08b0a067",
      "metadata": {
        "id": "08b0a067"
      },
      "outputs": [],
      "source": [
        "rt_df['RatingTomatometer'] = rt_df[\"RatingTomatometer\"].str.rstrip(\"%\").astype('float')/100.0"
      ]
    },
    {
      "cell_type": "code",
      "execution_count": null,
      "id": "3c5e0cb6",
      "metadata": {
        "id": "3c5e0cb6"
      },
      "outputs": [],
      "source": [
        "rt_df.head()"
      ]
    },
    {
      "cell_type": "code",
      "execution_count": null,
      "id": "2888a621",
      "metadata": {
        "id": "2888a621"
      },
      "outputs": [],
      "source": [
        "rt_df.info()"
      ]
    },
    {
      "cell_type": "code",
      "execution_count": null,
      "id": "870f1887",
      "metadata": {
        "id": "870f1887"
      },
      "outputs": [],
      "source": [
        "rt_df[\"RatingTomatometer\"].min()"
      ]
    },
    {
      "cell_type": "code",
      "execution_count": null,
      "id": "d2813f93",
      "metadata": {
        "id": "d2813f93"
      },
      "outputs": [],
      "source": [
        "rt_df[\"RatingTomatometer\"].max()"
      ]
    },
    {
      "cell_type": "code",
      "execution_count": null,
      "id": "fc72170c",
      "metadata": {
        "id": "fc72170c"
      },
      "outputs": [],
      "source": [
        "rt_df[\"RatingTomatometer\"].mean()"
      ]
    },
    {
      "cell_type": "markdown",
      "id": "d3d4dbb4",
      "metadata": {
        "id": "d3d4dbb4"
      },
      "source": [
        "This dataset specifically focuses on the top 100 in each genre so I expect the mean to be high. \n",
        "\n",
        "(I want to seperate this out by genre, by movie data, and limit it down to the top 10 movies in each genre) "
      ]
    },
    {
      "cell_type": "code",
      "execution_count": null,
      "id": "ec98d5d0",
      "metadata": {
        "id": "ec98d5d0"
      },
      "outputs": [],
      "source": [
        "fig3 = px.histogram(rt_df, x=\"RatingTomatometer\")\n",
        "fig3.show()"
      ]
    },
    {
      "cell_type": "markdown",
      "id": "60cce8a9",
      "metadata": {
        "id": "60cce8a9"
      },
      "source": [
        "# Question 1: What year had the most popular titles?\n",
        "I will start by seperating out titles and release dates"
      ]
    },
    {
      "cell_type": "code",
      "execution_count": null,
      "id": "6d007094",
      "metadata": {
        "id": "6d007094"
      },
      "outputs": [],
      "source": [
        "new = rt_df[\"Title\"].str.split(\"(\", n = 1, expand=True)\n",
        "\n",
        "rt_df[\"Movie Title\"] = new[0]\n",
        "rt_df[\"Year\"] = new[1]\n",
        "\n",
        "rt_df.head()"
      ]
    },
    {
      "cell_type": "code",
      "execution_count": null,
      "id": "5a06750f",
      "metadata": {
        "id": "5a06750f"
      },
      "outputs": [],
      "source": [
        "rt_df[\"Year\"].isnull().sum()"
      ]
    },
    {
      "cell_type": "code",
      "execution_count": null,
      "id": "d81c2c1d",
      "metadata": {
        "id": "d81c2c1d"
      },
      "outputs": [],
      "source": [
        "rt_df.info()"
      ]
    },
    {
      "cell_type": "code",
      "execution_count": null,
      "id": "c43a7220",
      "metadata": {
        "id": "c43a7220"
      },
      "outputs": [],
      "source": [
        "rt_df[\"Year\"].unique()"
      ]
    },
    {
      "cell_type": "markdown",
      "id": "a9c2944c",
      "metadata": {
        "id": "a9c2944c"
      },
      "source": [
        "I realize that I have an error here as some titles also listed some additional information in paraenthesis after the title, which is where I seperated out the values. Since I only want numbers in this column, I will now remove some those characters. "
      ]
    },
    {
      "cell_type": "code",
      "execution_count": null,
      "id": "66886a47",
      "metadata": {
        "id": "66886a47"
      },
      "outputs": [],
      "source": [
        "def numbers(element):\n",
        "    \n",
        "    return \"\".join(filter(str.isnumeric, element))"
      ]
    },
    {
      "cell_type": "code",
      "execution_count": null,
      "id": "b64814ef",
      "metadata": {
        "id": "b64814ef"
      },
      "outputs": [],
      "source": [
        "rt_df.loc[:, \"YearB\"] = [numbers(x) for x in rt_df.Year]\n",
        "rt_df.head()"
      ]
    },
    {
      "cell_type": "code",
      "execution_count": null,
      "id": "69b8bc79",
      "metadata": {
        "id": "69b8bc79"
      },
      "outputs": [],
      "source": [
        "rt_df[\"YearB\"].unique()"
      ]
    },
    {
      "cell_type": "code",
      "execution_count": null,
      "id": "bb9864de",
      "metadata": {
        "id": "bb9864de"
      },
      "outputs": [],
      "source": [
        "rt_df[\"YearB\"].isnull().sum()"
      ]
    },
    {
      "cell_type": "code",
      "execution_count": null,
      "id": "16a077bc",
      "metadata": {
        "id": "16a077bc"
      },
      "outputs": [],
      "source": [
        "rt_df.drop([\"Year\", \"Title\"], axis=1, inplace=True)"
      ]
    },
    {
      "cell_type": "code",
      "execution_count": null,
      "id": "d97ea2e9",
      "metadata": {
        "id": "d97ea2e9"
      },
      "outputs": [],
      "source": [
        "rt_df.head()"
      ]
    },
    {
      "cell_type": "markdown",
      "id": "65a95251",
      "metadata": {
        "id": "65a95251"
      },
      "source": [
        "I still have some values that don't make sense in my unique list above so I'm going to double check those values now."
      ]
    },
    {
      "cell_type": "code",
      "execution_count": null,
      "id": "62a28643",
      "metadata": {
        "id": "62a28643"
      },
      "outputs": [],
      "source": [
        "rt_df.loc[rt_df[\"YearB\"] == \"19841984\"]"
      ]
    },
    {
      "cell_type": "code",
      "execution_count": null,
      "id": "a4367441",
      "metadata": {
        "id": "a4367441"
      },
      "outputs": [],
      "source": [
        "rt_df.at[90, \"YearB\"]=\"1984\"\n",
        "rt_df.at[483, \"YearB\"]=\"1984\"\n",
        "rt_df.at[1282, \"YearB\"]=\"1984\""
      ]
    },
    {
      "cell_type": "code",
      "execution_count": null,
      "id": "a36a5164",
      "metadata": {
        "id": "a36a5164"
      },
      "outputs": [],
      "source": [
        "rt_df.loc[rt_df[\"YearB\"] == \"1202017\"]"
      ]
    },
    {
      "cell_type": "code",
      "execution_count": null,
      "id": "bd0f1b5d",
      "metadata": {
        "id": "bd0f1b5d"
      },
      "outputs": [],
      "source": [
        "rt_df.at[229, \"YearB\"]=\"2017\""
      ]
    },
    {
      "cell_type": "code",
      "execution_count": null,
      "id": "c53bb244",
      "metadata": {
        "id": "c53bb244"
      },
      "outputs": [],
      "source": [
        "rt_df.loc[rt_df[\"YearB\"] == \"1742003\"]"
      ]
    },
    {
      "cell_type": "code",
      "execution_count": null,
      "id": "cde0b769",
      "metadata": {
        "id": "cde0b769"
      },
      "outputs": [],
      "source": [
        "rt_df.at[1381, \"YearB\"]=\"2003\""
      ]
    },
    {
      "cell_type": "code",
      "execution_count": null,
      "id": "e3a829b8",
      "metadata": {
        "id": "e3a829b8"
      },
      "outputs": [],
      "source": [
        "rt_df[\"YearB\"].unique()"
      ]
    },
    {
      "cell_type": "code",
      "execution_count": null,
      "id": "5cd23a9e",
      "metadata": {
        "id": "5cd23a9e"
      },
      "outputs": [],
      "source": [
        "rt_df.sort_values(\"YearB\")"
      ]
    },
    {
      "cell_type": "code",
      "execution_count": null,
      "id": "ca35ed4c",
      "metadata": {
        "id": "ca35ed4c"
      },
      "outputs": [],
      "source": [
        "fig4 = px.histogram(rt_df, x=\"YearB\")\n",
        "fig4.show()"
      ]
    },
    {
      "cell_type": "code",
      "execution_count": null,
      "id": "91b4053d",
      "metadata": {
        "id": "91b4053d"
      },
      "outputs": [],
      "source": [
        "rt_df[\"YearB\"].value_counts()"
      ]
    },
    {
      "cell_type": "code",
      "execution_count": null,
      "id": "dcf1fd2d",
      "metadata": {
        "id": "dcf1fd2d"
      },
      "outputs": [],
      "source": [
        "rt_df[\"YearB\"].max()"
      ]
    },
    {
      "cell_type": "markdown",
      "id": "675cd015",
      "metadata": {
        "id": "675cd015"
      },
      "source": [
        "The year with the most popular titles was 2018"
      ]
    },
    {
      "cell_type": "markdown",
      "id": "1365c480",
      "metadata": {
        "id": "1365c480"
      },
      "source": [
        "# Seperate out dataframe by Specific Criteria\n",
        "I'm seperating out my dataframe by the following criteria to make further analysis simpler. \n",
        "1. Seperate dataframe by genre\n",
        "2. Seperate dataframe by decade "
      ]
    },
    {
      "cell_type": "code",
      "execution_count": null,
      "id": "3bae9a08",
      "metadata": {
        "id": "3bae9a08"
      },
      "outputs": [],
      "source": [
        "rt_df[\"YearB\"].min()"
      ]
    },
    {
      "cell_type": "code",
      "execution_count": null,
      "id": "5026abe2",
      "metadata": {
        "id": "5026abe2"
      },
      "outputs": [],
      "source": [
        "# I had an error here and had to strip the whitespace from my Year column in order to type the data as 'int'\n",
        "rt_df[\"YearB\"].isnull().values.any()"
      ]
    },
    {
      "cell_type": "code",
      "execution_count": null,
      "id": "318d6cb4",
      "metadata": {
        "id": "318d6cb4"
      },
      "outputs": [],
      "source": [
        "rt_df[\"YearB\"] = pd.to_numeric(rt_df[\"YearB\"].astype(str).str.strip(), errors='coerce')"
      ]
    },
    {
      "cell_type": "code",
      "execution_count": null,
      "id": "6641de28",
      "metadata": {
        "id": "6641de28"
      },
      "outputs": [],
      "source": [
        "print (rt_df[\"YearB\"].tolist()[:20])"
      ]
    },
    {
      "cell_type": "code",
      "execution_count": null,
      "id": "75a5df15",
      "metadata": {
        "id": "75a5df15"
      },
      "outputs": [],
      "source": [
        "rt_df.info()"
      ]
    },
    {
      "cell_type": "code",
      "execution_count": null,
      "id": "49f8bbd1",
      "metadata": {
        "id": "49f8bbd1"
      },
      "outputs": [],
      "source": [
        "conditions = [\n",
        "    (rt_df[\"YearB\"] <= 1929), \n",
        "    (rt_df[\"YearB\"] >= 1930) & (rt_df[\"YearB\"] <= 1939), \n",
        "    (rt_df[\"YearB\"] >= 1940) & (rt_df[\"YearB\"] <= 1949),\n",
        "    (rt_df[\"YearB\"] >= 1950) & (rt_df[\"YearB\"] <= 1959),\n",
        "    (rt_df[\"YearB\"] >= 1960) & (rt_df[\"YearB\"] <= 1969),\n",
        "    (rt_df[\"YearB\"] >= 1970) & (rt_df[\"YearB\"] <= 1979),\n",
        "    (rt_df[\"YearB\"] >= 1980) & (rt_df[\"YearB\"] <= 1989),\n",
        "    (rt_df[\"YearB\"] >= 1990) & (rt_df[\"YearB\"] <= 1999),\n",
        "    (rt_df[\"YearB\"] >= 2000) & (rt_df[\"YearB\"] <= 2009),\n",
        "    (rt_df[\"YearB\"] >= 2010) & (rt_df[\"YearB\"] <= 2019),\n",
        "    (rt_df[\"YearB\"] >= 2020) & (rt_df[\"YearB\"] <= 2022)\n",
        "]\n",
        "\n",
        "values = [\"1920s\", \"1930s\", \"1940s\", \"1950s\", \"1960s\", \"1970s\", \"1980s\", \"1990s\", \"2000s\", \"2010s\", \"2020s\"]\n",
        "\n",
        "rt_df[\"Decade\"] = np.select(conditions, values)\n",
        "\n",
        "rt_df.head()"
      ]
    },
    {
      "cell_type": "code",
      "execution_count": null,
      "id": "210026bc",
      "metadata": {
        "id": "210026bc"
      },
      "outputs": [],
      "source": [
        "rt_df[\"Genre\"].unique()"
      ]
    },
    {
      "cell_type": "code",
      "execution_count": null,
      "id": "600e357f",
      "metadata": {
        "id": "600e357f"
      },
      "outputs": [],
      "source": [
        "action_df = rt_df.loc[rt_df[\"Genre\"] == \"Action & Adventure\"]"
      ]
    },
    {
      "cell_type": "code",
      "execution_count": null,
      "id": "43b71d8f",
      "metadata": {
        "id": "43b71d8f"
      },
      "outputs": [],
      "source": [
        "action_df.head()"
      ]
    },
    {
      "cell_type": "code",
      "execution_count": null,
      "id": "eecc84fb",
      "metadata": {
        "id": "eecc84fb"
      },
      "outputs": [],
      "source": [
        "animation_df = rt_df.loc[rt_df[\"Genre\"] == \"Animation\"]\n",
        "art_house_df = rt_df.loc[rt_df[\"Genre\"] == \"Art House & International\"]\n",
        "classics_df = rt_df.loc[rt_df[\"Genre\"] == \"Classics\"]\n",
        "comedy_df = rt_df.loc[rt_df[\"Genre\"] == \"Documentary\"]\n",
        "drama_df = rt_df.loc[rt_df[\"Genre\"] == \"Drama\"]\n",
        "doc_df = rt_df.loc[rt_df[\"Genre\"] == \"Documentary\"]\n",
        "horror_df = rt_df.loc[rt_df[\"Genre\"] == \"Horror\"]\n",
        "kids_df = rt_df.loc[rt_df[\"Genre\"] == \"Kids & Family\"]\n",
        "musical_df = rt_df.loc[rt_df[\"Genre\"] == \"Musical & Performing Arts\"]\n",
        "mystery_df = rt_df.loc[rt_df[\"Genre\"] == \"Mystery & Suspense\"]\n",
        "romance_df = rt_df.loc[rt_df[\"Genre\"] == \"Romance\"]\n",
        "scify_df = rt_df.loc[rt_df[\"Genre\"] == \"Science Fiction & Fantasy\"]\n",
        "special_df = rt_df.loc[rt_df[\"Genre\"] == \"Special Interest\"]\n",
        "sports_df = rt_df.loc[rt_df[\"Genre\"] == \"Sports & Fitness\"]\n",
        "tv_df = rt_df.loc[rt_df[\"Genre\"] == \"Television\"]\n",
        "western_df = rt_df.loc[rt_df[\"Genre\"] == \"Western\"]"
      ]
    },
    {
      "cell_type": "code",
      "execution_count": null,
      "id": "3bd775b3",
      "metadata": {
        "id": "3bd775b3"
      },
      "outputs": [],
      "source": [
        "import plotly.graph_objects as go\n",
        "from plotly.subplots import make_subplots"
      ]
    },
    {
      "cell_type": "code",
      "execution_count": null,
      "id": "0ba293cf",
      "metadata": {
        "id": "0ba293cf"
      },
      "outputs": [],
      "source": [
        "fig8 = make_subplots(\n",
        "    rows=5, cols=4,\n",
        "    subplot_titles=(\"Action\", \"Animation\", \"Art House & Intern.\", \"Classics\", \"Comedy\", \"Drama\", \"Documentary\" \"Horror\", \"Kids\", \"Musicals\", \"Mystery\", \"Romance\", \"Scify\", \"Special\", \"Sports\", \"Tv\", \"Western\"))\n",
        "\n",
        "fig8.add_trace(go.Histogram(x=action_df[\"YearB\"]),\n",
        "              row=1, col=1)\n",
        "\n",
        "fig8.add_trace(go.Histogram(x=animation_df[\"YearB\"]),\n",
        "              row=1, col=2)\n",
        "\n",
        "fig8.add_trace(go.Histogram(x=art_house_df[\"YearB\"]),\n",
        "              row=1, col=3)\n",
        "\n",
        "fig8.add_trace(go.Histogram(x=classics_df[\"YearB\"]),\n",
        "              row=1, col=4)\n",
        "\n",
        "fig8.add_trace(go.Histogram(x=comedy_df[\"YearB\"]),\n",
        "              row=2, col=1)\n",
        "\n",
        "fig8.add_trace(go.Histogram(x=drama_df[\"YearB\"]),\n",
        "              row=2, col=2)\n",
        "\n",
        "fig8.add_trace(go.Histogram(x=doc_df[\"YearB\"]), \n",
        "              row=2, col=3)\n",
        "\n",
        "fig8.add_trace(go.Histogram(x=horror_df[\"YearB\"]),\n",
        "              row=2, col=4)\n",
        "\n",
        "fig8.add_trace(go.Histogram(x=kids_df[\"YearB\"]),\n",
        "              row=3, col=1)\n",
        "\n",
        "fig8.add_trace(go.Histogram(x=musical_df[\"YearB\"]),\n",
        "              row=3, col=2)\n",
        "\n",
        "fig8.add_trace(go.Histogram(x=mystery_df[\"YearB\"]),\n",
        "              row=3, col=3)\n",
        "\n",
        "fig8.add_trace(go.Histogram(x=romance_df[\"YearB\"]),\n",
        "              row=3, col=4)\n",
        "\n",
        "fig8.add_trace(go.Histogram(x=scify_df[\"YearB\"]),\n",
        "              row=4, col=1)\n",
        "\n",
        "fig8.add_trace(go.Histogram(x=special_df[\"YearB\"]),\n",
        "              row=4, col=2)\n",
        "\n",
        "fig8.add_trace(go.Histogram(x=sports_df[\"YearB\"]),\n",
        "              row=4, col=3)\n",
        "\n",
        "fig8.add_trace(go.Histogram(x=tv_df[\"YearB\"]),\n",
        "              row=4, col=4)\n",
        "\n",
        "fig8.add_trace(go.Histogram(x=western_df[\"YearB\"]),\n",
        "              row=5, col=1)\n",
        "\n",
        "fig8.show()"
      ]
    },
    {
      "cell_type": "code",
      "execution_count": null,
      "id": "58ff8e36",
      "metadata": {
        "id": "58ff8e36"
      },
      "outputs": [],
      "source": [
        "early_twenties_df = rt_df.loc[rt_df[\"YearB\"] <= 1929]"
      ]
    },
    {
      "cell_type": "code",
      "execution_count": null,
      "id": "99c3ce4f",
      "metadata": {
        "id": "99c3ce4f"
      },
      "outputs": [],
      "source": [
        "fig5 = px.histogram(early_twenties_df, x=\"YearB\")\n",
        "fig5.show()"
      ]
    },
    {
      "cell_type": "markdown",
      "id": "cd0c783d",
      "metadata": {
        "id": "cd0c783d"
      },
      "source": [
        "Now I know my seperation by decade has worked, so I will complete the rest of the seperations in the cell below. "
      ]
    },
    {
      "cell_type": "code",
      "execution_count": null,
      "id": "0ae8c1e9",
      "metadata": {
        "id": "0ae8c1e9"
      },
      "outputs": [],
      "source": [
        "thirties_df = rt_df.loc[(rt_df[\"YearB\"] >= 1930) & (rt_df[\"YearB\"] <= 1939)]\n",
        "fourties_df = rt_df.loc[(rt_df[\"YearB\"] >= 1940) & (rt_df[\"YearB\"] <= 1949)]\n",
        "fifties_df = rt_df.loc[(rt_df[\"YearB\"] >= 1950) & (rt_df[\"YearB\"] <= 1959)]\n",
        "sixties_df = rt_df.loc[(rt_df[\"YearB\"] >= 1960) & (rt_df[\"YearB\"] <= 1969)]\n",
        "seventies_df = rt_df.loc[(rt_df[\"YearB\"] >= 1970) & (rt_df[\"YearB\"] <= 1979)]\n",
        "eighties_df = rt_df.loc[(rt_df[\"YearB\"] >= 1980) & (rt_df[\"YearB\"] <= 1989)]\n",
        "ninties_df = rt_df.loc[(rt_df[\"YearB\"] >= 1990) & (rt_df[\"YearB\"] <= 1999)]\n",
        "thousands_df = rt_df.loc[(rt_df[\"YearB\"] >= 2000) & (rt_df[\"YearB\"] <= 2009)]\n",
        "twentyteens_df = rt_df.loc[(rt_df[\"YearB\"] >= 2010) & (rt_df[\"YearB\"] <= 2019)]\n",
        "twentytwenties_df = rt_df.loc[(rt_df[\"YearB\"] >= 2020) & (rt_df[\"YearB\"] <= 2022)]"
      ]
    },
    {
      "cell_type": "markdown",
      "id": "7a49e0f3",
      "metadata": {
        "id": "7a49e0f3"
      },
      "source": [
        "I will also add these decades as a column on my dataframe in order to utilize it later on. "
      ]
    },
    {
      "cell_type": "code",
      "execution_count": null,
      "id": "05229e31",
      "metadata": {
        "id": "05229e31"
      },
      "outputs": [],
      "source": [
        "thousands_df.head()"
      ]
    },
    {
      "cell_type": "code",
      "execution_count": null,
      "id": "9594bf2a",
      "metadata": {
        "id": "9594bf2a"
      },
      "outputs": [],
      "source": [
        "fig7 = make_subplots(\n",
        "    rows=4, cols=3,\n",
        "    subplot_titles=(\"1920s\", \"1930s\", \"1940s\", \"1950s\", \"1960s\", \"1970s\", \"1980s\", \"1990s\", \"2000s\", \"2010s\", \"2020s\", \"Every Year\"))\n",
        "\n",
        "fig7.add_trace(go.Histogram(x=early_twenties_df[\"YearB\"]),\n",
        "              row=1, col=1)\n",
        "\n",
        "fig7.add_trace(go.Histogram(x=thirties_df[\"YearB\"]),\n",
        "              row=1, col=2)\n",
        "\n",
        "fig7.add_trace(go.Histogram(x=fourties_df[\"YearB\"]),\n",
        "              row=1, col=3)\n",
        "\n",
        "fig7.add_trace(go.Histogram(x=fifties_df[\"YearB\"]),\n",
        "              row=2, col=1)\n",
        "\n",
        "fig7.add_trace(go.Histogram(x=sixties_df[\"YearB\"]),\n",
        "              row=2, col=2)\n",
        "\n",
        "fig7.add_trace(go.Histogram(x=seventies_df[\"YearB\"]),\n",
        "              row=2, col=3)\n",
        "\n",
        "fig7.add_trace(go.Histogram(x=eighties_df[\"YearB\"]),\n",
        "              row=3, col=1)\n",
        "\n",
        "fig7.add_trace(go.Histogram(x=ninties_df[\"YearB\"]),\n",
        "              row=3, col=2)\n",
        "\n",
        "fig7.add_trace(go.Histogram(x=thousands_df[\"YearB\"]),\n",
        "              row=3, col=3)\n",
        "\n",
        "fig7.add_trace(go.Histogram(x=twentyteens_df[\"YearB\"]),\n",
        "              row=4, col=1)\n",
        "\n",
        "fig7.add_trace(go.Histogram(x=twentytwenties_df[\"YearB\"]),\n",
        "              row=4, col=2)\n",
        "\n",
        "fig7.add_trace(go.Histogram(x=rt_df[\"YearB\"]),\n",
        "              row=4, col=3)\n",
        "\n",
        "fig7.show()"
      ]
    },
    {
      "cell_type": "markdown",
      "id": "8d318a4f",
      "metadata": {
        "id": "8d318a4f"
      },
      "source": [
        "#  Answer Questions\n",
        "Now that I have wrangled, organized, and explored my data I will being to answer my questions. \n",
        "\n",
        "1. Explore the year that had the most popular titles\n",
        "2. Compare the data to see if any correlation exists\n",
        "3. Find the most popular movies in each genre\n",
        "4. The most popular movie overall"
      ]
    },
    {
      "cell_type": "markdown",
      "id": "c56c9702",
      "metadata": {
        "id": "c56c9702"
      },
      "source": [
        "# 1. Which year had the most popular titles?\n",
        "Answer: 2018"
      ]
    },
    {
      "cell_type": "code",
      "execution_count": null,
      "id": "ebe23031",
      "metadata": {
        "id": "ebe23031"
      },
      "outputs": [],
      "source": [
        "rt_df[\"YearB\"].value_counts()"
      ]
    },
    {
      "cell_type": "code",
      "execution_count": null,
      "id": "08eccb76",
      "metadata": {
        "id": "08eccb76"
      },
      "outputs": [],
      "source": [
        "fig9 = px.histogram(rt_df, x=\"YearB\")\n",
        "fig9.show()"
      ]
    },
    {
      "cell_type": "code",
      "execution_count": null,
      "id": "d5d04942",
      "metadata": {
        "id": "d5d04942"
      },
      "outputs": [],
      "source": [
        "fig10 = px.histogram(twentyteens_df, x=\"YearB\")\n",
        "fig10.show()"
      ]
    },
    {
      "cell_type": "markdown",
      "id": "550a8155",
      "metadata": {
        "id": "550a8155"
      },
      "source": [
        "# 2.What correlations, if any, exist?\n",
        "Answer: Number of Reviews and Year released have a slight positive relationship.\n",
        "No onther clear correlations exist in this dataset."
      ]
    },
    {
      "cell_type": "code",
      "execution_count": null,
      "id": "111dc667",
      "metadata": {
        "id": "111dc667"
      },
      "outputs": [],
      "source": [
        "rt_df.corr()"
      ]
    },
    {
      "cell_type": "markdown",
      "id": "356730d6",
      "metadata": {
        "id": "356730d6"
      },
      "source": [
        "Correlations varry from -1 to 1. 1 means there is a perfect relationship. \n",
        "(notice that this only happens when the matrix crosses itself)\n",
        "\n",
        "The closer to zero we get (either negative or positive) the weaker the \n",
        "relationship between both variables. \n",
        "\n",
        "In this case, it seems that the Number of Reviews and Year of release have a somewhat moderate relationship. \n",
        "\n",
        "Correlation is not causation, but this could be worth exploring further. "
      ]
    },
    {
      "cell_type": "code",
      "execution_count": null,
      "id": "ad1af09d",
      "metadata": {
        "id": "ad1af09d"
      },
      "outputs": [],
      "source": [
        "fig11 = px.scatter(rt_df, x=\"RatingTomatometer\", y=\"No. of Reviews\")\n",
        "fig11.show()"
      ]
    },
    {
      "cell_type": "code",
      "execution_count": null,
      "id": "0c0c8afa",
      "metadata": {
        "id": "0c0c8afa"
      },
      "outputs": [],
      "source": [
        "fig12 = px.scatter(rt_df, x=\"RatingTomatometer\", y=\"No. of Reviews\", color=\"Genre\")\n",
        "fig12.show()"
      ]
    },
    {
      "cell_type": "markdown",
      "id": "8ece41f3",
      "metadata": {
        "id": "8ece41f3"
      },
      "source": [
        "Adding genre does not seem to create a more linear relationship, but I want to see this addition a little closer up to make sure that I haven't missed anything. "
      ]
    },
    {
      "cell_type": "code",
      "execution_count": null,
      "id": "e40cd654",
      "metadata": {
        "id": "e40cd654"
      },
      "outputs": [],
      "source": [
        "fig13 = make_subplots(\n",
        "    rows=5, cols=4,\n",
        "    subplot_titles=(\"Action\", \"Animation\", \"Art House & Intern.\", \"Classics\", \"Comedy\", \"Drama\", \"Docs\" \"Horror\", \"Kids\", \"Musicals\", \"Mystery\", \"Romance\", \"Scify\", \"Special\", \"Sports\", \"Tv\", \"Western\"))\n",
        "\n",
        "fig13.add_trace(go.Scatter(x=action_df[\"RatingTomatometer\"], y=action_df[\"No. of Reviews\"]),\n",
        "              row=1, col=1)\n",
        "\n",
        "fig13.add_trace(go.Scatter(x=animation_df[\"RatingTomatometer\"], y=animation_df[\"No. of Reviews\"]),\n",
        "              row=1, col=2)\n",
        "\n",
        "fig13.add_trace(go.Scatter(x=art_house_df[\"RatingTomatometer\"], y=art_house_df[\"No. of Reviews\"]),\n",
        "              row=1, col=3)\n",
        "\n",
        "fig13.add_trace(go.Scatter(x=classics_df[\"RatingTomatometer\"], y=classics_df[\"No. of Reviews\"]),\n",
        "              row=1, col=4)\n",
        "\n",
        "fig13.add_trace(go.Scatter(x=comedy_df[\"RatingTomatometer\"], y=comedy_df[\"No. of Reviews\"]),\n",
        "              row=2, col=1)\n",
        "\n",
        "fig13.add_trace(go.Scatter(x=drama_df[\"RatingTomatometer\"], y=drama_df[\"No. of Reviews\"]),\n",
        "              row=2, col=2)\n",
        "\n",
        "fig13.add_trace(go.Scatter(x=doc_df[\"RatingTomatometer\"], y=doc_df[\"No. of Reviews\"]),\n",
        "               row=2, col=3)\n",
        "\n",
        "fig13.add_trace(go.Scatter(x=horror_df[\"RatingTomatometer\"], y=horror_df[\"No. of Reviews\"]),\n",
        "              row=2, col=4)\n",
        "\n",
        "fig13.add_trace(go.Scatter(x=kids_df[\"RatingTomatometer\"], y=kids_df[\"No. of Reviews\"]),\n",
        "              row=3, col=1)\n",
        "\n",
        "fig13.add_trace(go.Scatter(x=musical_df[\"RatingTomatometer\"], y=musical_df[\"No. of Reviews\"]),\n",
        "              row=3, col=2)\n",
        "\n",
        "fig13.add_trace(go.Scatter(x=mystery_df[\"RatingTomatometer\"], y=mystery_df[\"No. of Reviews\"]),\n",
        "              row=3, col=3)\n",
        "\n",
        "fig13.add_trace(go.Scatter(x=romance_df[\"RatingTomatometer\"], y=romance_df[\"No. of Reviews\"]),\n",
        "              row=3, col=4)\n",
        "\n",
        "fig13.add_trace(go.Scatter(x=scify_df[\"RatingTomatometer\"], y=scify_df[\"No. of Reviews\"]),\n",
        "              row=4, col=1)\n",
        "\n",
        "fig13.add_trace(go.Scatter(x=special_df[\"RatingTomatometer\"], y=special_df[\"No. of Reviews\"]),\n",
        "              row=4, col=2)\n",
        "\n",
        "fig13.add_trace(go.Scatter(x=sports_df[\"RatingTomatometer\"], y=sports_df[\"No. of Reviews\"]),\n",
        "              row=4, col=3)\n",
        "\n",
        "fig13.add_trace(go.Scatter(x=tv_df[\"RatingTomatometer\"], y=tv_df[\"No. of Reviews\"]),\n",
        "              row=4, col=4)\n",
        "\n",
        "fig13.add_trace(go.Scatter(x=western_df[\"RatingTomatometer\"], y=western_df[\"No. of Reviews\"]),\n",
        "              row=5, col=1)\n",
        "\n",
        "fig13.show()"
      ]
    },
    {
      "cell_type": "code",
      "execution_count": null,
      "id": "b24e2ce7",
      "metadata": {
        "id": "b24e2ce7"
      },
      "outputs": [],
      "source": [
        "fig14 = px.scatter(rt_df, x=\"RatingTomatometer\", y=\"No. of Reviews\", facet_col=\"Genre\", facet_col_wrap=2, width=800, height=2400)\n",
        "fig14.update_layout(title=\"Ratings vs Number of Reviews\")\n",
        "fig14.show()"
      ]
    },
    {
      "cell_type": "markdown",
      "id": "dbc357d1",
      "metadata": {
        "id": "dbc357d1"
      },
      "source": [
        "What I gather from these relationships (or lack thereof), is that Sports & Fitness, Television, and Western are less popular genres than the others and the movies with fewer reviewers were added to the top '100'. "
      ]
    },
    {
      "cell_type": "code",
      "execution_count": null,
      "id": "4b8e41d6",
      "metadata": {
        "id": "4b8e41d6"
      },
      "outputs": [],
      "source": [
        "!pip install statsmodels"
      ]
    },
    {
      "cell_type": "code",
      "execution_count": null,
      "id": "c04f478d",
      "metadata": {
        "id": "c04f478d"
      },
      "outputs": [],
      "source": [
        "fig15 = px.scatter(rt_df, x=\"YearB\", y=\"No. of Reviews\", color=\"Decade\", trendline=\"lowess\", trendline_scope=\"overall\", trendline_color_override=\"black\")\n",
        "fig15.show()"
      ]
    },
    {
      "cell_type": "code",
      "execution_count": null,
      "id": "69f92e36",
      "metadata": {
        "id": "69f92e36"
      },
      "outputs": [],
      "source": [
        "fig16 = px.scatter(rt_df, x=\"YearB\", y=\"No. of Reviews\", facet_col= \"Genre\", facet_col_wrap= 3, trendline=\"ols\", height=1200)\n",
        "fig16.show()"
      ]
    },
    {
      "cell_type": "markdown",
      "id": "d9be11a8",
      "metadata": {
        "id": "d9be11a8"
      },
      "source": [
        "Not all of these lines fit perfectly, but it does seem that the newer the release date, the more likely it is that the Number of Reviews will also be higher. This makes sense as the entertainment industry continues to grow. "
      ]
    },
    {
      "cell_type": "markdown",
      "id": "18ab3b5b",
      "metadata": {
        "id": "18ab3b5b"
      },
      "source": [
        "# Question 3: Find the most popular movies in each genre\n",
        "Answer: \n",
        "Action & Adventure: Black Panther (2018)\t\n",
        "Animation: Toy Story 4\t(2019)\t\n",
        "Art House & International: Parasite\t(2019)\t\n",
        "Classics: It Happened One Night\t(1934)\t\n",
        "Documentary: Won't You Be My Neighbor?\t(2018)\n",
        "Drama: Citizen Kane\t(1941)\t\n",
        "Horror: Us\t(2019)\t\n",
        "Kids & Family: The Wizard of Oz\t(1939)\t\n",
        "Musical & Performing Arts: The Wizard of Oz\t(1939)\n",
        "Mystery & Suspense: Citizen Kane (1941)\t\n",
        "Romance: It Happened One Night\t(1934)\n",
        "Science Fiction & Fantasy: The Wizard of Oz\t(1939)\t\n",
        "Special Interest: The Bride of Frankenstein\t(1935)\t\n",
        "Sports & Fitness: Murderball (2005)\n",
        "Television: Life Itself\t(2014)\t\n",
        "Western: The Treasure of the Sierra Madre (1948)"
      ]
    },
    {
      "cell_type": "code",
      "execution_count": null,
      "id": "497a8d55",
      "metadata": {
        "id": "497a8d55"
      },
      "outputs": [],
      "source": [
        "fig6 = px.scatter(rt_df, x=\"RatingTomatometer\", y=\"No. of Reviews\", color=\"Genre\")\n",
        "fig6.show()"
      ]
    },
    {
      "cell_type": "code",
      "execution_count": null,
      "id": "49044b79",
      "metadata": {
        "id": "49044b79"
      },
      "outputs": [],
      "source": [
        "rt_df.sort_values(\"RatingTomatometer\", ascending=False).head()"
      ]
    },
    {
      "cell_type": "code",
      "execution_count": null,
      "id": "59944faf",
      "metadata": {
        "id": "59944faf"
      },
      "outputs": [],
      "source": [
        "rt_df.sort_values(\"No. of Reviews\", ascending=False).head()"
      ]
    },
    {
      "cell_type": "markdown",
      "id": "a8438e85",
      "metadata": {
        "id": "a8438e85"
      },
      "source": [
        "Rotten Tomatoes has some movies listed under several genres, I'll be sure to address that below."
      ]
    },
    {
      "cell_type": "code",
      "execution_count": null,
      "id": "0f7d9f82",
      "metadata": {
        "id": "0f7d9f82"
      },
      "outputs": [],
      "source": [
        "# I am going to remind myself what genres I will be evaluating \n",
        "rt_df[\"Genre\"].unique()"
      ]
    },
    {
      "cell_type": "code",
      "execution_count": null,
      "id": "49b1930d",
      "metadata": {
        "id": "49b1930d"
      },
      "outputs": [],
      "source": [
        "top_action = action_df.sort_values(\"Rank\").head(10)\n",
        "top_animation = animation_df.sort_values(\"Rank\").head(10)\n",
        "top_art = art_house_df.sort_values(\"Rank\").head(10)\n",
        "top_classics = classics_df.sort_values(\"Rank\").head(10)\n",
        "top_comedy = comedy_df.sort_values(\"Rank\").head(10)\n",
        "top_doc = doc_df.sort_values(\"Rank\").head(10)\n",
        "top_drama = drama_df.sort_values(\"Rank\").head(10)\n",
        "top_horror = horror_df.sort_values(\"Rank\").head(10)\n",
        "top_kids = kids_df.sort_values(\"Rank\").head(10)\n",
        "top_musical = musical_df.sort_values(\"Rank\").head(10)\n",
        "top_mystery = mystery_df.sort_values(\"Rank\").head(10)\n",
        "top_romance = romance_df.sort_values(\"Rank\").head(10)\n",
        "top_science = scify_df.sort_values(\"Rank\").head(10)\n",
        "top_special = special_df.sort_values(\"Rank\").head(10)\n",
        "top_sports = sports_df.sort_values(\"Rank\").head(10)\n",
        "top_tv = tv_df.sort_values(\"Rank\").head(10)\n",
        "top_west = western_df.sort_values(\"Rank\").head(10)"
      ]
    },
    {
      "cell_type": "code",
      "execution_count": null,
      "id": "56107b44",
      "metadata": {
        "id": "56107b44"
      },
      "outputs": [],
      "source": [
        "display(top_action)\n",
        "display(top_animation)\n",
        "display(top_art)\n",
        "display(top_classics)\n",
        "display(top_comedy)\n",
        "display(top_doc)\n",
        "display(top_drama)\n",
        "display(top_horror)\n",
        "display(top_kids)\n",
        "display(top_musical)\n",
        "display(top_mystery)\n",
        "display(top_romance)\n",
        "display(top_science)\n",
        "display(top_special)\n",
        "display(top_sports)\n",
        "display(top_tv)\n",
        "display(top_west)"
      ]
    },
    {
      "cell_type": "code",
      "execution_count": null,
      "id": "e2567e89",
      "metadata": {
        "id": "e2567e89"
      },
      "outputs": [],
      "source": [
        "frames = [top_action, top_animation, top_art, top_classics, top_comedy, top_doc, top_drama, top_horror, top_kids, top_musical, top_mystery, top_romance, top_science, top_special, top_sports, top_tv, top_west]"
      ]
    },
    {
      "cell_type": "code",
      "execution_count": null,
      "id": "7896a6f2",
      "metadata": {
        "id": "7896a6f2"
      },
      "outputs": [],
      "source": [
        "top_result = pd.concat(frames)\n",
        "top_result"
      ]
    },
    {
      "cell_type": "code",
      "execution_count": null,
      "id": "223b3990",
      "metadata": {
        "id": "223b3990"
      },
      "outputs": [],
      "source": [
        "fig17 = px.bar(top_result, x=\"Rank\", y=\"Scaled Reviews\", color=\"Decade\")\n",
        "fig17.show()"
      ]
    },
    {
      "cell_type": "markdown",
      "id": "90d7832f",
      "metadata": {
        "id": "90d7832f"
      },
      "source": [
        "# 4. The favorite movie overall \n",
        "(According to \"Rotten Tomatoes\" critics) \n",
        "The highest ranking movie with the best 'Tomatometer' score is \"Black Panther (2018)\": Action and Adventure. "
      ]
    },
    {
      "cell_type": "code",
      "execution_count": null,
      "id": "d00226f4",
      "metadata": {
        "id": "d00226f4"
      },
      "outputs": [],
      "source": [
        "first = top_result.loc[top_result[\"Rank\"] == 1]\n",
        "first"
      ]
    },
    {
      "cell_type": "code",
      "execution_count": null,
      "id": "3e177be5",
      "metadata": {
        "id": "3e177be5"
      },
      "outputs": [],
      "source": [
        "first.sort_values(by=[\"Scaled Reviews\"], ascending=False)"
      ]
    },
    {
      "cell_type": "markdown",
      "id": "94e84930",
      "metadata": {
        "id": "94e84930"
      },
      "source": [
        "Sorting by the 'Scaled number of reviews' only tells me how often this movie had a review written about it. I need to focus on the Tomatometer ranking in order to find the most popular title. "
      ]
    },
    {
      "cell_type": "code",
      "execution_count": null,
      "id": "0bf18090",
      "metadata": {
        "id": "0bf18090"
      },
      "outputs": [],
      "source": [
        "rt_df[['Scaled Tomatometer']] = scaler.fit_transform(rt_df[[\"RatingTomatometer\"]])\n",
        "\n",
        "rt_df.head()"
      ]
    },
    {
      "cell_type": "code",
      "execution_count": null,
      "id": "a19c2689",
      "metadata": {
        "id": "a19c2689"
      },
      "outputs": [],
      "source": [
        "rt_df.sort_values(by=[\"Scaled Tomatometer\"], ascending=False)"
      ]
    },
    {
      "cell_type": "markdown",
      "id": "2802ac88",
      "metadata": {
        "id": "2802ac88"
      },
      "source": [
        "This has not been as accurate an image as I would have liked so I will take this dataframe and all of the values with a 'Scaled Tomatometer' at 1 and then sort these values by 'Scaled Reviews'. "
      ]
    },
    {
      "cell_type": "code",
      "execution_count": null,
      "id": "de5f10de",
      "metadata": {
        "id": "de5f10de"
      },
      "outputs": [],
      "source": [
        "one_tomato = rt_df.loc[rt_df[\"Scaled Tomatometer\"] == 1]\n",
        "one_tomato"
      ]
    },
    {
      "cell_type": "code",
      "execution_count": null,
      "id": "87ed5261",
      "metadata": {
        "id": "87ed5261"
      },
      "outputs": [],
      "source": [
        "one_tomato.sort_values(by=[\"Scaled Reviews\"], ascending=False)"
      ]
    },
    {
      "cell_type": "markdown",
      "id": "1cc3c8d0",
      "metadata": {
        "id": "1cc3c8d0"
      },
      "source": [
        "This still isn't quite the results I was hoping for, So I am going to further limit my dataframe. "
      ]
    },
    {
      "cell_type": "code",
      "execution_count": null,
      "id": "c3241b78",
      "metadata": {
        "id": "c3241b78"
      },
      "outputs": [],
      "source": [
        "one_tomato = rt_df.loc[(rt_df[\"Scaled Tomatometer\"] >= .9) & (rt_df[\"Scaled Reviews\"] >= .9)]\n",
        "one_tomato"
      ]
    },
    {
      "cell_type": "code",
      "execution_count": null,
      "id": "d0769592",
      "metadata": {
        "id": "d0769592"
      },
      "outputs": [],
      "source": [
        "one_tomato.sort_values(by=[\"Scaled Tomatometer\"], ascending=False)"
      ]
    },
    {
      "cell_type": "code",
      "execution_count": null,
      "id": "ad85b64c",
      "metadata": {
        "id": "ad85b64c"
      },
      "outputs": [],
      "source": [
        "one_tomato.sort_values(by=[\"Scaled Reviews\"], ascending=False)"
      ]
    },
    {
      "cell_type": "markdown",
      "id": "5e58f7bf",
      "metadata": {
        "id": "5e58f7bf"
      },
      "source": [
        "# Future Projects \n",
        "Connected to this project, I would like to explore some of this data further. It will require me to scrape some additional websites and track down a little more information than the current parameters of this project needs. Here is the list of information I would like to gather. \n",
        "1. Audience ratings \n",
        "2. The money spent on production compared to money earned \n",
        "3. The money spent on advertising compared to money earned \n",
        "4. The money spent on production compared to audience ratings "
      ]
    }
  ],
  "metadata": {
    "kernelspec": {
      "display_name": "Python 3 (ipykernel)",
      "language": "python",
      "name": "python3"
    },
    "language_info": {
      "codemirror_mode": {
        "name": "ipython",
        "version": 3
      },
      "file_extension": ".py",
      "mimetype": "text/x-python",
      "name": "python",
      "nbconvert_exporter": "python",
      "pygments_lexer": "ipython3",
      "version": "3.9.7"
    },
    "colab": {
      "name": "RT Dataset Analysis (Newest).ipynb",
      "provenance": []
    }
  },
  "nbformat": 4,
  "nbformat_minor": 5
}